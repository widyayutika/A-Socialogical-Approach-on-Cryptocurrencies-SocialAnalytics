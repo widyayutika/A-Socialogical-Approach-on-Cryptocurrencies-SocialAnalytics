{
 "cells": [
  {
   "cell_type": "code",
   "execution_count": 1,
   "metadata": {},
   "outputs": [],
   "source": [
    "import snscrape.modules.twitter as sntwitter\n",
    "import pandas as pd\n",
    "import progressbar\n",
    "from time import sleep\n",
    "from datetime import datetime\n",
    "import os\n",
    "\n"
   ]
  },
  {
   "cell_type": "markdown",
   "metadata": {},
   "source": [
    "## Retrive Tweets based on Keywords"
   ]
  },
  {
   "cell_type": "code",
   "execution_count": 2,
   "metadata": {},
   "outputs": [
    {
     "name": "stderr",
     "output_type": "stream",
     "text": [
      "[                                                                        ]   0%\r"
     ]
    },
    {
     "name": "stdout",
     "output_type": "stream",
     "text": [
      "BTC %\n"
     ]
    },
    {
     "name": "stderr",
     "output_type": "stream",
     "text": [
      "[========================================================================] 100%\n"
     ]
    }
   ],
   "source": [
    "BTC_dict = {'BTC': ['Bitcoin BTC since:2021-01-01 until:2021-04-30', 1500000]}\n",
    "\n",
    "today = datetime.today().strftime('%Y%m%d')[2:]+'_'\n",
    "for index, dict_name in enumerate(BTC_dict):\n",
    "    print(dict_name, '%')\n",
    "    tweets_list1 = []\n",
    "    bar = progressbar.ProgressBar(maxval=BTC_dict[dict_name][1]+2, widgets=[progressbar.Bar('=', '[', ']'), ' ', progressbar.Percentage()])\n",
    "    bar.start()\n",
    "    for i,tweet in enumerate(sntwitter.TwitterSearchScraper(f'{BTC_dict[dict_name][0]}').get_items()): #declare a username\n",
    "        bar.update(i+1)\n",
    "        if i>BTC_dict[dict_name][1]: #number of tweets you want to scrape\n",
    "            break\n",
    "        #print(movie_name, i, tweet)\n",
    "        tweets_list1.append([tweet.date, tweet.id, tweet.content, tweet.user.username]) #declare the attributes to be returned\n",
    "    tweets_df1 = pd.DataFrame(tweets_list1, columns=['Datetime', 'Tweet Id', 'Text', 'Username'])\n",
    "\n",
    "    tweets_df1[['Datetime', 'Text']].to_csv('bitcoi(2021)(01-04).csv')\n",
    "    bar.finish()"
   ]
  },
  {
   "cell_type": "markdown",
   "metadata": {},
   "source": [
    "## Retrive Tweets based on User"
   ]
  },
  {
   "cell_type": "code",
   "execution_count": 5,
   "metadata": {},
   "outputs": [],
   "source": [
    "# Setting variables to be used below\n",
    "maxTweets = 500\n",
    "\n",
    "# Creating list to append tweet data to\n",
    "tweets_list2 = []\n",
    "\n",
    "# Using TwitterSearchScraper to scrape data and append tweets to list\n",
    "for i,tweet in enumerate(sntwitter.TwitterSearchScraper('from:elonmusk since:2021-01-01 until:2021-02-28').get_items()):\n",
    "    if i>maxTweets:\n",
    "        break\n",
    "    if (\"bitcoin\" or \"btc\" in tweet.content):\n",
    "        tweets_list2.append([tweet.date, tweet.id, tweet.content, tweet.user.username])\n",
    "tweets_df2 = pd.DataFrame(tweets_list2, columns=['Datetime', 'Tweet Id', 'Text', 'Username'])\n",
    "tweets_df2[['Datetime', 'Text', 'Username']].to_csv(f'{index}.csv')"
   ]
  }
 ],
 "metadata": {
  "kernelspec": {
   "display_name": "Python 3.8.13 ('sa_env')",
   "language": "python",
   "name": "python3"
  },
  "language_info": {
   "codemirror_mode": {
    "name": "ipython",
    "version": 3
   },
   "file_extension": ".py",
   "mimetype": "text/x-python",
   "name": "python",
   "nbconvert_exporter": "python",
   "pygments_lexer": "ipython3",
   "version": "3.8.13"
  },
  "orig_nbformat": 4,
  "vscode": {
   "interpreter": {
    "hash": "d8a8b1454362039d8e8b8ef38268deeb5e92cf47164ccdde572f754a316ebf63"
   }
  }
 },
 "nbformat": 4,
 "nbformat_minor": 2
}
