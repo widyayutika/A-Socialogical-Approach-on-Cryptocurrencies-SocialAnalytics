{
 "cells": [
  {
   "cell_type": "code",
   "execution_count": 1,
   "id": "4db121f3",
   "metadata": {},
   "outputs": [],
   "source": [
    "import pandas as pd\n",
    "import datetime as dt\n",
    "from psaw import PushshiftAPI"
   ]
  },
  {
   "cell_type": "code",
   "execution_count": 2,
   "id": "8746771e",
   "metadata": {},
   "outputs": [],
   "source": [
    "start_time=[int(dt.datetime(2019, 1, 1).timestamp()),int(dt.datetime(2019, 1, 15).timestamp()),\n",
    "      int(dt.datetime(2019, 2, 1).timestamp()),int(dt.datetime(2019, 2, 15).timestamp()),\n",
    "      int(dt.datetime(2019, 3, 1).timestamp()),int(dt.datetime(2019, 3, 15).timestamp()),\n",
    "      int(dt.datetime(2019, 4, 1).timestamp()),int(dt.datetime(2019, 4, 15).timestamp()),\n",
    "      int(dt.datetime(2019, 5, 1).timestamp()),int(dt.datetime(2019, 5, 15).timestamp()),\n",
    "      int(dt.datetime(2019, 6, 1).timestamp()),int(dt.datetime(2019, 6, 15).timestamp()),\n",
    "      int(dt.datetime(2019, 7, 1).timestamp()),int(dt.datetime(2019, 7, 15).timestamp()),\n",
    "      int(dt.datetime(2019, 8, 1).timestamp()),int(dt.datetime(2019, 8, 15).timestamp()),\n",
    "       int(dt.datetime(2019, 9, 1).timestamp()),int(dt.datetime(2019, 9, 15).timestamp()),\n",
    "       int(dt.datetime(2019, 10, 1).timestamp()),int(dt.datetime(2019, 10, 15).timestamp()),\n",
    "       int(dt.datetime(2019, 11, 1).timestamp()),int(dt.datetime(2019, 11, 15).timestamp()),\n",
    "       int(dt.datetime(2019, 12, 1).timestamp()),int(dt.datetime(2019, 12, 15).timestamp())\n",
    "      ]\n",
    "end_time=[int(dt.datetime(2019, 1, 14).timestamp()),int(dt.datetime(2019, 1, 31).timestamp()),\n",
    "      int(dt.datetime(2019, 2, 14).timestamp()),int(dt.datetime(2019, 1, 28).timestamp()),\n",
    "      int(dt.datetime(2019, 3, 14).timestamp()),int(dt.datetime(2019, 1, 31).timestamp()),\n",
    "      int(dt.datetime(2019, 4, 14).timestamp()),int(dt.datetime(2019, 1, 30).timestamp()),\n",
    "      int(dt.datetime(2019, 5, 14).timestamp()),int(dt.datetime(2019, 1, 31).timestamp()),\n",
    "      int(dt.datetime(2019, 6, 14).timestamp()),int(dt.datetime(2019, 1, 30).timestamp()),\n",
    "      int(dt.datetime(2019, 7, 14).timestamp()),int(dt.datetime(2019, 1, 31).timestamp()),\n",
    "      int(dt.datetime(2019, 8, 14).timestamp()),int(dt.datetime(2019, 1, 31).timestamp()),\n",
    "       int(dt.datetime(2019, 9, 14).timestamp()),int(dt.datetime(2019, 1, 30).timestamp()),\n",
    "       int(dt.datetime(2019, 10, 14).timestamp()),int(dt.datetime(2019, 1, 31).timestamp()),\n",
    "       int(dt.datetime(2019, 11, 14).timestamp()),int(dt.datetime(2019, 1, 30).timestamp()),\n",
    "       int(dt.datetime(2019, 12, 14).timestamp()),int(dt.datetime(2019, 1, 31).timestamp())\n",
    "      ]"
   ]
  },
  {
   "cell_type": "code",
   "execution_count": 3,
   "id": "e47d3afc",
   "metadata": {},
   "outputs": [
    {
     "name": "stderr",
     "output_type": "stream",
     "text": [
      "C:\\Users\\tikaw\\AppData\\Local\\Programs\\Python\\Python39\\lib\\site-packages\\psaw\\PushshiftAPI.py:252: UserWarning: Not all PushShift shards are active. Query results may be incomplete\n",
      "  warnings.warn(shards_down_message)\n"
     ]
    },
    {
     "name": "stdout",
     "output_type": "stream",
     "text": [
      "count0\n",
      "{'failed': 0, 'skipped': 0, 'successful': 20, 'total': 24}\n"
     ]
    },
    {
     "name": "stderr",
     "output_type": "stream",
     "text": [
      "C:\\Users\\tikaw\\AppData\\Local\\Programs\\Python\\Python39\\lib\\site-packages\\psaw\\PushshiftAPI.py:252: UserWarning: Not all PushShift shards are active. Query results may be incomplete\n",
      "  warnings.warn(shards_down_message)\n"
     ]
    },
    {
     "name": "stdout",
     "output_type": "stream",
     "text": [
      "count1\n",
      "{'failed': 0, 'skipped': 0, 'successful': 20, 'total': 24}\n"
     ]
    },
    {
     "name": "stderr",
     "output_type": "stream",
     "text": [
      "C:\\Users\\tikaw\\AppData\\Local\\Programs\\Python\\Python39\\lib\\site-packages\\psaw\\PushshiftAPI.py:252: UserWarning: Not all PushShift shards are active. Query results may be incomplete\n",
      "  warnings.warn(shards_down_message)\n"
     ]
    },
    {
     "name": "stdout",
     "output_type": "stream",
     "text": [
      "count2\n",
      "{'failed': 0, 'skipped': 0, 'successful': 20, 'total': 24}\n"
     ]
    },
    {
     "name": "stderr",
     "output_type": "stream",
     "text": [
      "C:\\Users\\tikaw\\AppData\\Local\\Programs\\Python\\Python39\\lib\\site-packages\\psaw\\PushshiftAPI.py:252: UserWarning: Not all PushShift shards are active. Query results may be incomplete\n",
      "  warnings.warn(shards_down_message)\n"
     ]
    },
    {
     "name": "stdout",
     "output_type": "stream",
     "text": [
      "count3\n",
      "{'failed': 0, 'skipped': 0, 'successful': 20, 'total': 24}\n"
     ]
    },
    {
     "name": "stderr",
     "output_type": "stream",
     "text": [
      "C:\\Users\\tikaw\\AppData\\Local\\Programs\\Python\\Python39\\lib\\site-packages\\psaw\\PushshiftAPI.py:252: UserWarning: Not all PushShift shards are active. Query results may be incomplete\n",
      "  warnings.warn(shards_down_message)\n"
     ]
    },
    {
     "name": "stdout",
     "output_type": "stream",
     "text": [
      "count4\n",
      "{'failed': 0, 'skipped': 0, 'successful': 20, 'total': 24}\n"
     ]
    },
    {
     "name": "stderr",
     "output_type": "stream",
     "text": [
      "C:\\Users\\tikaw\\AppData\\Local\\Programs\\Python\\Python39\\lib\\site-packages\\psaw\\PushshiftAPI.py:252: UserWarning: Not all PushShift shards are active. Query results may be incomplete\n",
      "  warnings.warn(shards_down_message)\n"
     ]
    },
    {
     "name": "stdout",
     "output_type": "stream",
     "text": [
      "count5\n",
      "{'failed': 0, 'skipped': 0, 'successful': 20, 'total': 24}\n"
     ]
    },
    {
     "name": "stderr",
     "output_type": "stream",
     "text": [
      "C:\\Users\\tikaw\\AppData\\Local\\Programs\\Python\\Python39\\lib\\site-packages\\psaw\\PushshiftAPI.py:252: UserWarning: Not all PushShift shards are active. Query results may be incomplete\n",
      "  warnings.warn(shards_down_message)\n"
     ]
    },
    {
     "name": "stdout",
     "output_type": "stream",
     "text": [
      "count6\n",
      "{'failed': 0, 'skipped': 0, 'successful': 20, 'total': 24}\n"
     ]
    },
    {
     "name": "stderr",
     "output_type": "stream",
     "text": [
      "C:\\Users\\tikaw\\AppData\\Local\\Programs\\Python\\Python39\\lib\\site-packages\\psaw\\PushshiftAPI.py:252: UserWarning: Not all PushShift shards are active. Query results may be incomplete\n",
      "  warnings.warn(shards_down_message)\n"
     ]
    },
    {
     "name": "stdout",
     "output_type": "stream",
     "text": [
      "count7\n",
      "{'failed': 0, 'skipped': 0, 'successful': 20, 'total': 24}\n"
     ]
    },
    {
     "name": "stderr",
     "output_type": "stream",
     "text": [
      "C:\\Users\\tikaw\\AppData\\Local\\Programs\\Python\\Python39\\lib\\site-packages\\psaw\\PushshiftAPI.py:252: UserWarning: Not all PushShift shards are active. Query results may be incomplete\n",
      "  warnings.warn(shards_down_message)\n"
     ]
    },
    {
     "name": "stdout",
     "output_type": "stream",
     "text": [
      "count8\n",
      "{'failed': 0, 'skipped': 0, 'successful': 20, 'total': 24}\n"
     ]
    },
    {
     "name": "stderr",
     "output_type": "stream",
     "text": [
      "C:\\Users\\tikaw\\AppData\\Local\\Programs\\Python\\Python39\\lib\\site-packages\\psaw\\PushshiftAPI.py:252: UserWarning: Not all PushShift shards are active. Query results may be incomplete\n",
      "  warnings.warn(shards_down_message)\n"
     ]
    },
    {
     "name": "stdout",
     "output_type": "stream",
     "text": [
      "count9\n",
      "{'failed': 0, 'skipped': 0, 'successful': 20, 'total': 24}\n"
     ]
    },
    {
     "name": "stderr",
     "output_type": "stream",
     "text": [
      "C:\\Users\\tikaw\\AppData\\Local\\Programs\\Python\\Python39\\lib\\site-packages\\psaw\\PushshiftAPI.py:252: UserWarning: Not all PushShift shards are active. Query results may be incomplete\n",
      "  warnings.warn(shards_down_message)\n"
     ]
    },
    {
     "name": "stdout",
     "output_type": "stream",
     "text": [
      "count10\n",
      "{'failed': 0, 'skipped': 0, 'successful': 20, 'total': 24}\n"
     ]
    },
    {
     "name": "stderr",
     "output_type": "stream",
     "text": [
      "C:\\Users\\tikaw\\AppData\\Local\\Programs\\Python\\Python39\\lib\\site-packages\\psaw\\PushshiftAPI.py:252: UserWarning: Not all PushShift shards are active. Query results may be incomplete\n",
      "  warnings.warn(shards_down_message)\n"
     ]
    },
    {
     "name": "stdout",
     "output_type": "stream",
     "text": [
      "count11\n",
      "{'failed': 0, 'skipped': 0, 'successful': 20, 'total': 24}\n"
     ]
    },
    {
     "name": "stderr",
     "output_type": "stream",
     "text": [
      "C:\\Users\\tikaw\\AppData\\Local\\Programs\\Python\\Python39\\lib\\site-packages\\psaw\\PushshiftAPI.py:252: UserWarning: Not all PushShift shards are active. Query results may be incomplete\n",
      "  warnings.warn(shards_down_message)\n"
     ]
    },
    {
     "name": "stdout",
     "output_type": "stream",
     "text": [
      "count12\n",
      "{'failed': 0, 'skipped': 0, 'successful': 20, 'total': 24}\n"
     ]
    },
    {
     "name": "stderr",
     "output_type": "stream",
     "text": [
      "C:\\Users\\tikaw\\AppData\\Local\\Programs\\Python\\Python39\\lib\\site-packages\\psaw\\PushshiftAPI.py:252: UserWarning: Not all PushShift shards are active. Query results may be incomplete\n",
      "  warnings.warn(shards_down_message)\n"
     ]
    },
    {
     "name": "stdout",
     "output_type": "stream",
     "text": [
      "count13\n",
      "{'failed': 0, 'skipped': 0, 'successful': 20, 'total': 24}\n"
     ]
    },
    {
     "name": "stderr",
     "output_type": "stream",
     "text": [
      "C:\\Users\\tikaw\\AppData\\Local\\Programs\\Python\\Python39\\lib\\site-packages\\psaw\\PushshiftAPI.py:252: UserWarning: Not all PushShift shards are active. Query results may be incomplete\n",
      "  warnings.warn(shards_down_message)\n"
     ]
    },
    {
     "name": "stdout",
     "output_type": "stream",
     "text": [
      "count14\n",
      "{'failed': 0, 'skipped': 0, 'successful': 20, 'total': 24}\n"
     ]
    },
    {
     "name": "stderr",
     "output_type": "stream",
     "text": [
      "C:\\Users\\tikaw\\AppData\\Local\\Programs\\Python\\Python39\\lib\\site-packages\\psaw\\PushshiftAPI.py:252: UserWarning: Not all PushShift shards are active. Query results may be incomplete\n",
      "  warnings.warn(shards_down_message)\n"
     ]
    },
    {
     "name": "stdout",
     "output_type": "stream",
     "text": [
      "count15\n",
      "{'failed': 0, 'skipped': 0, 'successful': 20, 'total': 24}\n"
     ]
    },
    {
     "name": "stderr",
     "output_type": "stream",
     "text": [
      "C:\\Users\\tikaw\\AppData\\Local\\Programs\\Python\\Python39\\lib\\site-packages\\psaw\\PushshiftAPI.py:252: UserWarning: Not all PushShift shards are active. Query results may be incomplete\n",
      "  warnings.warn(shards_down_message)\n"
     ]
    },
    {
     "name": "stdout",
     "output_type": "stream",
     "text": [
      "count16\n",
      "{'failed': 0, 'skipped': 0, 'successful': 20, 'total': 24}\n"
     ]
    },
    {
     "name": "stderr",
     "output_type": "stream",
     "text": [
      "C:\\Users\\tikaw\\AppData\\Local\\Programs\\Python\\Python39\\lib\\site-packages\\psaw\\PushshiftAPI.py:252: UserWarning: Not all PushShift shards are active. Query results may be incomplete\n",
      "  warnings.warn(shards_down_message)\n"
     ]
    },
    {
     "name": "stdout",
     "output_type": "stream",
     "text": [
      "count17\n",
      "{'failed': 0, 'skipped': 0, 'successful': 20, 'total': 24}\n"
     ]
    },
    {
     "name": "stderr",
     "output_type": "stream",
     "text": [
      "C:\\Users\\tikaw\\AppData\\Local\\Programs\\Python\\Python39\\lib\\site-packages\\psaw\\PushshiftAPI.py:252: UserWarning: Not all PushShift shards are active. Query results may be incomplete\n",
      "  warnings.warn(shards_down_message)\n"
     ]
    },
    {
     "name": "stdout",
     "output_type": "stream",
     "text": [
      "count18\n",
      "{'failed': 0, 'skipped': 0, 'successful': 20, 'total': 24}\n"
     ]
    },
    {
     "name": "stderr",
     "output_type": "stream",
     "text": [
      "C:\\Users\\tikaw\\AppData\\Local\\Programs\\Python\\Python39\\lib\\site-packages\\psaw\\PushshiftAPI.py:252: UserWarning: Not all PushShift shards are active. Query results may be incomplete\n",
      "  warnings.warn(shards_down_message)\n"
     ]
    },
    {
     "name": "stdout",
     "output_type": "stream",
     "text": [
      "count19\n",
      "{'failed': 0, 'skipped': 0, 'successful': 20, 'total': 24}\n"
     ]
    },
    {
     "name": "stderr",
     "output_type": "stream",
     "text": [
      "C:\\Users\\tikaw\\AppData\\Local\\Programs\\Python\\Python39\\lib\\site-packages\\psaw\\PushshiftAPI.py:252: UserWarning: Not all PushShift shards are active. Query results may be incomplete\n",
      "  warnings.warn(shards_down_message)\n"
     ]
    },
    {
     "name": "stdout",
     "output_type": "stream",
     "text": [
      "count20\n",
      "{'failed': 0, 'skipped': 0, 'successful': 20, 'total': 24}\n"
     ]
    },
    {
     "name": "stderr",
     "output_type": "stream",
     "text": [
      "C:\\Users\\tikaw\\AppData\\Local\\Programs\\Python\\Python39\\lib\\site-packages\\psaw\\PushshiftAPI.py:252: UserWarning: Not all PushShift shards are active. Query results may be incomplete\n",
      "  warnings.warn(shards_down_message)\n"
     ]
    },
    {
     "name": "stdout",
     "output_type": "stream",
     "text": [
      "count21\n",
      "{'failed': 0, 'skipped': 0, 'successful': 20, 'total': 24}\n"
     ]
    },
    {
     "name": "stderr",
     "output_type": "stream",
     "text": [
      "C:\\Users\\tikaw\\AppData\\Local\\Programs\\Python\\Python39\\lib\\site-packages\\psaw\\PushshiftAPI.py:252: UserWarning: Not all PushShift shards are active. Query results may be incomplete\n",
      "  warnings.warn(shards_down_message)\n"
     ]
    },
    {
     "name": "stdout",
     "output_type": "stream",
     "text": [
      "count22\n",
      "{'failed': 0, 'skipped': 0, 'successful': 20, 'total': 24}\n",
      "count23\n",
      "{'failed': 0, 'skipped': 0, 'successful': 20, 'total': 24}\n"
     ]
    },
    {
     "name": "stderr",
     "output_type": "stream",
     "text": [
      "C:\\Users\\tikaw\\AppData\\Local\\Programs\\Python\\Python39\\lib\\site-packages\\psaw\\PushshiftAPI.py:252: UserWarning: Not all PushShift shards are active. Query results may be incomplete\n",
      "  warnings.warn(shards_down_message)\n"
     ]
    }
   ],
   "source": [
    "api = PushshiftAPI()\n",
    "\n",
    "# start_time = int(dt.datetime(2019, 1, 1).timestamp())\n",
    "# end_time = int(dt.datetime(2019, 12, 31).timestamp())\n",
    "\n",
    "for j in range(len(start_time)):\n",
    "    test =list(api.search_submissions(after=start_time[j], before=end_time[j], subreddit='bitcoin', limit=1000, filter=['created', 'author', 'selftext']))\n",
    "    print(\"count\" + str(j))\n",
    "    print(api.metadata_.get('shards'))\n",
    "    reddit_list=[]\n",
    "    # count=-1\n",
    "    for i in test:\n",
    "\n",
    "        if i.author == '[deleted]':\n",
    "    #         print(\"error author\"+str(count))\n",
    "            pass\n",
    "        elif (i.selftext =='[removed]' or i.selftext==''):\n",
    "    #         print(\"error selftext removed\"+str(count))\n",
    "            pass\n",
    "        else:\n",
    "            reddit_list.append([str(dt.datetime.fromtimestamp(i.created)),i.author, i.selftext])\n",
    "    #     count+=1\n",
    "    #         print(str(count)+\"ok!\")\n",
    "\n",
    "    # Creating a dataframe from the reddit list above  \n",
    "    reddit_df = pd.DataFrame(reddit_list, columns=['created', 'author','selftext'])\n",
    "\n",
    "    # To save file to csv\n",
    "    reddit_df.to_csv(\"Reddit_subreddit_bitcoin_2019_\"+str(j)+\".csv\")"
   ]
  },
  {
   "cell_type": "code",
   "execution_count": null,
   "id": "d52e8495",
   "metadata": {},
   "outputs": [],
   "source": [
    "data=[]\n",
    "for i in range(24):\n",
    "    data.append(pd.read_csv(\"Reddit_subreddit_bitcoin_2019_\"+str(i)+\".csv\"))\n",
    "\n",
    "result =pd.concat(data)\n",
    "result.reset_index().to_csv(\"Reddit_subreddit_bitcoin_2019.csv\")"
   ]
  },
  {
   "cell_type": "code",
   "execution_count": null,
   "id": "7e34c5d1",
   "metadata": {},
   "outputs": [],
   "source": []
  }
 ],
 "metadata": {
  "kernelspec": {
   "display_name": "Python 3 (ipykernel)",
   "language": "python",
   "name": "python3"
  },
  "language_info": {
   "codemirror_mode": {
    "name": "ipython",
    "version": 3
   },
   "file_extension": ".py",
   "mimetype": "text/x-python",
   "name": "python",
   "nbconvert_exporter": "python",
   "pygments_lexer": "ipython3",
   "version": "3.9.9"
  }
 },
 "nbformat": 4,
 "nbformat_minor": 5
}
