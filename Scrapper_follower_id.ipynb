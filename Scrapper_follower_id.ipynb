{
 "cells": [
  {
   "cell_type": "markdown",
   "id": "c2c5226d",
   "metadata": {},
   "source": [
    "### To import libraries"
   ]
  },
  {
   "cell_type": "code",
   "execution_count": 1,
   "id": "2ed6ba32",
   "metadata": {},
   "outputs": [],
   "source": [
    "import oauth2 as oauth\n",
    "from twitter_config_wid import *\n",
    "from twitter_wrapper_wid import *\n",
    "import pandas as pd\n",
    "import networkx as nx"
   ]
  },
  {
   "cell_type": "markdown",
   "id": "467d0bd8",
   "metadata": {},
   "source": [
    "### To create a csv for username and user id"
   ]
  },
  {
   "cell_type": "code",
   "execution_count": null,
   "id": "e84e8865",
   "metadata": {},
   "outputs": [],
   "source": [
    "username_influencer=[\"VitalikButerin\",\"rogerkver\",\"aantop\",\"TimDraper\",\"SatoshiLite\",\n",
    "          \"APompliano\",\"ErikVoorhees\",\"officialmcafee\",\"IvanOnTech\",\"danheld\",\n",
    "          \"SBF_FTX\",\"elonmusk\",\"nayibbukele\",\"cz_binance\",\"garyvee\"]"
   ]
  },
  {
   "cell_type": "code",
   "execution_count": null,
   "id": "88ac583c",
   "metadata": {},
   "outputs": [],
   "source": [
    "# Creating list to append tweet data to\n",
    "tweets_list = []\n",
    "\n",
    "for k in range(len(username_influencer)):\n",
    "    tweets_list.append([username_influencer[k], get_user_id(username_influencer[k])])\n",
    "\n",
    "# Creating a dataframe from the tweets list above\n",
    "tweets_df = pd.DataFrame(tweets_list, columns=['Username', 'UserID'])\n",
    "\n",
    "# To save file to csv (For 1st file)\n",
    "tweets_df.to_csv(\"UserID_Influencer.csv\")"
   ]
  },
  {
   "cell_type": "code",
   "execution_count": null,
   "id": "ade0c912",
   "metadata": {},
   "outputs": [],
   "source": [
    "username_institute=[\"MicroStrategy\",\"GoldmanSachs\",\"MorganStanley\",\"dbsbank\",\"PBOC_Official\",\"business\"]"
   ]
  },
  {
   "cell_type": "code",
   "execution_count": null,
   "id": "643ab634",
   "metadata": {},
   "outputs": [],
   "source": [
    "# Creating list to append tweet data to\n",
    "tweets_list1 = []\n",
    "\n",
    "for k in range(len(username_institute)):\n",
    "    tweets_list1.append([username_institute[k], get_user_id(username_institute[k])])\n",
    "\n",
    "# Creating a dataframe from the tweets list above\n",
    "tweets_df1 = pd.DataFrame(tweets_list1, columns=['Username', 'UserID'])\n",
    "\n",
    "# To save file to csv (For 1st file)\n",
    "tweets_df1.to_csv(\"UserID_Institute.csv\")"
   ]
  },
  {
   "cell_type": "markdown",
   "id": "9a80b580",
   "metadata": {},
   "source": [
    "### To get follower id"
   ]
  },
  {
   "cell_type": "code",
   "execution_count": 2,
   "id": "a39c3ad4",
   "metadata": {},
   "outputs": [],
   "source": [
    "def get_follower_id(user_name):\n",
    "    # complete your function below\n",
    "    success, result = twitter_api('followers/ids.json?screen_name='+user_name)\n",
    "    return result['ids']"
   ]
  },
  {
   "cell_type": "code",
   "execution_count": 3,
   "id": "f5c380b1",
   "metadata": {},
   "outputs": [],
   "source": [
    "def store_follower_id(user_name, filename):\n",
    "    # complete your function below\n",
    "    with open(filename, 'a') as f:\n",
    "        for follower_id in get_follower_id(user_name):\n",
    "            f.write(str(int(df.loc[df[\"Username\"]==user_name][\"UserID\"].values[0])) + \" \" +str(follower_id) + \"\\n\")"
   ]
  },
  {
   "cell_type": "code",
   "execution_count": 4,
   "id": "3e3d0d9b",
   "metadata": {},
   "outputs": [],
   "source": [
    "#Scrape user_id from screen_name\n",
    "def get_user_id(user_name):\n",
    "    success, result = twitter_api('users/show.json?screen_name='+user_name)\n",
    "    return result['id']"
   ]
  },
  {
   "cell_type": "code",
   "execution_count": null,
   "id": "037b23d8",
   "metadata": {},
   "outputs": [],
   "source": [
    "# To get followers using user_id (to get the followers_id from the followers of the influencers)\n",
    "def get_follower_id_userid(user_id):\n",
    "    # complete your function below\n",
    "    success, result = twitter_api('followers/ids.json?user_id='+user_id)\n",
    "    return result['ids']\n",
    "\n",
    "def store_follower_id_userid(user_id, filename):\n",
    "    # complete your function below\n",
    "    with open(filename, 'a') as f:\n",
    "        for follower_id in get_follower_id_userid(user_id):\n",
    "            f.write(str(user_id) + \" \" +str(follower_id) + \"\\n\")\n",
    "\n",
    "userid=[\"\"] # to include user_id list from top 30 followers\n",
    "\n",
    "for i in userid:\n",
    "    store_follower_id_userid(i, 'follower_id_'+i+'.txt')"
   ]
  },
  {
   "cell_type": "code",
   "execution_count": 5,
   "id": "3eb5dd50",
   "metadata": {},
   "outputs": [],
   "source": [
    "# def get_username(user_id):\n",
    "#     success, result = twitter_api('users/show.json?user_id='+user_id)\n",
    "#     return result['screen_name']"
   ]
  },
  {
   "cell_type": "code",
   "execution_count": 6,
   "id": "21f836eb",
   "metadata": {},
   "outputs": [],
   "source": [
    "df1= pd.read_csv(\"UserID_Influencer.csv\")\n",
    "df2=pd.read_csv(\"UserID_Institute.csv\")\n",
    "df=pd.concat([df1,df2])\n",
    "df=df.drop(\"Unnamed: 0\",axis=1)\n",
    "df=df.reset_index(drop=True)"
   ]
  },
  {
   "cell_type": "code",
   "execution_count": null,
   "id": "e5406bee",
   "metadata": {},
   "outputs": [],
   "source": [
    "# test case\n",
    "print(store_follower_id('widyatantiya', 'follower_id.txt'))"
   ]
  },
  {
   "cell_type": "code",
   "execution_count": 9,
   "id": "a39c2be2",
   "metadata": {},
   "outputs": [
    {
     "name": "stdout",
     "output_type": "stream",
     "text": [
      "waiting for request followers/ids.json\n",
      "done\n"
     ]
    }
   ],
   "source": [
    "# username=[\"VitalikButerin\",\"elonmusk\",\"nayibbukele\",\"cz_binance\",\"GoldmanSachs\",\"business\"]\n",
    "username=[\"nayibbukele\"]\n",
    "\n",
    "for i in username:\n",
    "    store_follower_id(i, 'follower_id_'+i+'.txt')"
   ]
  },
  {
   "cell_type": "code",
   "execution_count": null,
   "id": "80c23ba5",
   "metadata": {},
   "outputs": [],
   "source": [
    "def load_edge_list(filename):\n",
    "    ''' filename: the name of an edge list file '''\n",
    "    \n",
    "    g = nx.Graph()\n",
    "    # complete your function to construct and return the graph\n",
    "    with open(filename) as file:\n",
    "        for line in file:\n",
    "            test= line.split()\n",
    "            g.add_edge(test[0],test[1])\n",
    "    \n",
    "    \n",
    "    return g\n",
    "\n",
    "g = load_edge_list('follower_id.txt')\n",
    "\n",
    "# visualize your graph below\n",
    "nx.draw(g, with_labels=True)\n"
   ]
  },
  {
   "cell_type": "code",
   "execution_count": null,
   "id": "7c03d5d4",
   "metadata": {},
   "outputs": [],
   "source": []
  }
 ],
 "metadata": {
  "kernelspec": {
   "display_name": "Python 3 (ipykernel)",
   "language": "python",
   "name": "python3"
  },
  "language_info": {
   "codemirror_mode": {
    "name": "ipython",
    "version": 3
   },
   "file_extension": ".py",
   "mimetype": "text/x-python",
   "name": "python",
   "nbconvert_exporter": "python",
   "pygments_lexer": "ipython3",
   "version": "3.9.9"
  }
 },
 "nbformat": 4,
 "nbformat_minor": 5
}
